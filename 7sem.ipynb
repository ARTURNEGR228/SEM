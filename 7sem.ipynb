{
 "cells": [
  {
   "cell_type": "code",
   "execution_count": null,
   "metadata": {},
   "outputs": [],
   "source": [
    "str1 = 'abcdef'\n",
    "dict1 = {char: i for i, char in enumerate(str1)}\n",
    "print(dict1)"
   ]
  },
  {
   "cell_type": "code",
   "execution_count": null,
   "metadata": {},
   "outputs": [],
   "source": [
    "l1 = ['a', 'b', 'x', 'y']\n",
    "k_elements = sum(1 for item in l1 if item in dict1)\n",
    "print(k_elements)"
   ]
  },
  {
   "cell_type": "code",
   "execution_count": null,
   "metadata": {},
   "outputs": [],
   "source": [
    "str2 = 'evgene_o'\n",
    "dict2 = stock_dict(int)\n",
    "for char in str2:\n",
    "    dict2[char] += 1\n",
    "print(dict2)"
   ]
  },
  {
   "cell_type": "code",
   "execution_count": null,
   "metadata": {},
   "outputs": [],
   "source": [
    "k_lowercase = sum(dict2[char] for char in dict2 if char.islower())\n",
    "print(k_lowercase)"
   ]
  },
  {
   "cell_type": "code",
   "execution_count": null,
   "metadata": {},
   "outputs": [],
   "source": [
    "dict3 = {'g': 4, 'h': 5}\n",
    "dict4 = {**dict1, **dict2, **dict3}\n",
    "print(dict4)"
   ]
  },
  {
   "cell_type": "code",
   "execution_count": null,
   "metadata": {},
   "outputs": [],
   "source": [
    "sum_val = sum(dict4.values())\n",
    "print(sum_val)"
   ]
  },
  {
   "cell_type": "code",
   "execution_count": null,
   "metadata": {},
   "outputs": [],
   "source": [
    "k = 1\n",
    "for value in dict4.values():\n",
    "    k *= value\n",
    "print(k)"
   ]
  },
  {
   "cell_type": "code",
   "execution_count": null,
   "metadata": {},
   "outputs": [],
   "source": [
    "summ = sum(key * value for key, value in dict4.items())\n",
    "print(summ)"
   ]
  },
  {
   "cell_type": "code",
   "execution_count": null,
   "metadata": {},
   "outputs": [],
   "source": [
    "dict5 = {'a': 1, 'b': 2}\n",
    "dict6 = {'a': 1, 'b': 2, 'c': 3}\n",
    "dict7 = {key: dict6[key] for key in dict6 if key not in dict5}\n",
    "print(dict7)"
   ]
  },
  {
   "cell_type": "code",
   "execution_count": null,
   "metadata": {},
   "outputs": [],
   "source": [
    "dict8 = {**dict5, **dict6}\n",
    "print(dict8)"
   ]
  },
  {
   "cell_type": "code",
   "execution_count": null,
   "metadata": {},
   "outputs": [],
   "source": [
    "ri1 = [3, 1, 2, 4, 3, 5]\n",
    "s = sorted(set(ri1))\n",
    "print(s)"
   ]
  }
 ],
 "metadata": {
  "language_info": {
   "name": "python"
  }
 },
 "nbformat": 4,
 "nbformat_minor": 2
}
