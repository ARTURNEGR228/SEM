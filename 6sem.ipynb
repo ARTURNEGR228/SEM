{
 "cells": [
  {
   "cell_type": "markdown",
   "metadata": {},
   "source": [
    "Создать список из чисел 31, 24, 17 тремя способами: перечисление, на основе другого списка (по сути, создать копию списка), с помощью функции range. Вывести списки на печать. Создать и вывести список, состоящий из полученных списков."
   ]
  },
  {
   "cell_type": "code",
   "execution_count": 10,
   "metadata": {},
   "outputs": [
    {
     "name": "stdout",
     "output_type": "stream",
     "text": [
      "[31, 24, 17]\n"
     ]
    }
   ],
   "source": [
    "#1\n",
    "# s='34 24 17'\n",
    "#b=s.split()\n",
    "#2\n",
    "# s=list(range(31,16,-7))\n",
    "#3\n",
    "# c=[31,24,17]\n",
    "# s=[i for i in c]\n",
    "# print(s)"
   ]
  },
  {
   "cell_type": "markdown",
   "metadata": {},
   "source": [
    "2.1 Создать список из всех симоволов имеющихся во введенной пользователем строке"
   ]
  },
  {
   "cell_type": "code",
   "execution_count": 11,
   "metadata": {},
   "outputs": [
    {
     "name": "stdout",
     "output_type": "stream",
     "text": [
      "['a', 'b', 'c', 'd', 'e', 'f', 'g', 'h', 'i']\n"
     ]
    }
   ],
   "source": [
    "s=input()\n",
    "b=[str(i) for i in s]\n",
    "print(b)"
   ]
  },
  {
   "cell_type": "markdown",
   "metadata": {},
   "source": [
    "2.2 Создать список из всех слов имеющихся во введенной пользователем строке"
   ]
  },
  {
   "cell_type": "code",
   "execution_count": 12,
   "metadata": {},
   "outputs": [
    {
     "name": "stdout",
     "output_type": "stream",
     "text": [
      "['dshjfg', 'slkjdhgfjks', 'slkdjfh']\n"
     ]
    }
   ],
   "source": [
    "s=input()\n",
    "b=[str(i) for i in s.split()]\n",
    "print(b)"
   ]
  },
  {
   "cell_type": "markdown",
   "metadata": {},
   "source": [
    "2.3  Создать и вывести список из всех цифр, встречающихся в заданной строке."
   ]
  },
  {
   "cell_type": "code",
   "execution_count": 13,
   "metadata": {},
   "outputs": [
    {
     "name": "stdout",
     "output_type": "stream",
     "text": [
      "['1', '2', '3', '4']\n"
     ]
    }
   ],
   "source": [
    "s=input()\n",
    "b=[i for i in s if i.isdigit()]\n",
    "print(b)"
   ]
  },
  {
   "cell_type": "markdown",
   "metadata": {},
   "source": [
    "3 \n",
    "Если в заданный список входит слово \"repeat\", а последний элемент - число, то заменить список на столько же копий всех элементов, не считая последних двух (последние два просто добавить). Например, список ['input', 'string', 'repeat', 3] должен быть заменен на ['input', 'string', 'input', 'string', 'input', 'string', 'repeat', 3].\n"
   ]
  },
  {
   "cell_type": "code",
   "execution_count": 59,
   "metadata": {},
   "outputs": [
    {
     "name": "stdout",
     "output_type": "stream",
     "text": [
      "['djflhadf', 'gkjsdfhgs', 'djflhadf', 'gkjsdfhgs', 'djflhadf', 'gkjsdfhgs', 'djflhadf', 'gkjsdfhgs', 'djflhadf', 'gkjsdfhgs', 'djflhadf', 'gkjsdfhgs', 'repeat', '6']\n"
     ]
    }
   ],
   "source": [
    "s=str(input())\n",
    "b=s.split();a=[]\n",
    "if 'repeat' in b and b[-1].isdigit():\n",
    "    for i in range(int(b[-1])):\n",
    "        a.extend(b[:-2])\n",
    "a.append(b[-2])\n",
    "a.append(b[-1])\n",
    "print(a)"
   ]
  },
  {
   "cell_type": "markdown",
   "metadata": {},
   "source": [
    "4 Создать список из двух произвольных строк s1 и s2, их длин и результата проверки соблюдения лексикографического порядка (идет ли первая строка раньше второй). В зависимости от параметра output путем обращения к элементам списка выводить либо длины строк (output='lengths', в формате \"Длины строк: 4 и 5\"), либо описание порядка (output='order', в формате \"Строка 'первая' идет ПОСЛЕ строки 'вторая'\")."
   ]
  },
  {
   "cell_type": "code",
   "execution_count": null,
   "metadata": {},
   "outputs": [],
   "source": [
    "s1 = \"abcde\"\n",
    "s2 = \"abcdf\"\n",
    "dlin = [len(s1), len(s2)]\n",
    "k = 1 if s1 < s2 else 2\n",
    "def f(x):\n",
    "    if x == 'dlini':\n",
    "        print(f\"Длины строк: {dlin[0]} и {dlin[1]}\")\n",
    "    elif x == 'poryadok':\n",
    "        print(f\"Строка '{k}' идет {'ПОСЛЕ' if k == 2 else 'ДО'} строки '{'1' if k == 2 else '2'}'\")\n",
    "f('dlini')\n",
    "f('poryadok')"
   ]
  },
  {
   "cell_type": "markdown",
   "metadata": {},
   "source": [
    " 5 Запросить у пользователя 2 целых числа и сохранить их в переменных max_val, repeat. Создать список из целых чисел со значениями от 1 до max_val включительно повторяющийся repeat раз."
   ]
  },
  {
   "cell_type": "code",
   "execution_count": null,
   "metadata": {},
   "outputs": [],
   "source": [
    "max_val = int(input())\n",
    "repeat = int(input())\n",
    "s = [i for i in range(1, max_val+1)] * repeat\n",
    "print(s)"
   ]
  },
  {
   "cell_type": "markdown",
   "metadata": {},
   "source": [
    "6  Из произвольной строки создать список. Вместо каждой буквы \"s\" (без учета регистра), стоящей не на первом и не на последнем месте, вставить в список строку из двойного предыдущего символа и одного следующего. Например, из строки \"test_Stringss\" должен получиться список ['t', 'e', 'eet', 't', '_', '__t', 't', 'r', 'i', 'n', 'g', 'ggs', 's']."
   ]
  },
  {
   "cell_type": "code",
   "execution_count": 61,
   "metadata": {},
   "outputs": [
    {
     "name": "stdout",
     "output_type": "stream",
     "text": [
      "['t', 'e', 'eet', 't', '_', '__t', 't', 'r', 'i', 'n', 'g', 'ggs', 's']\n"
     ]
    }
   ],
   "source": [
    "s = \"test_Stringss\"\n",
    "b = []\n",
    "for i in range(len(s)):\n",
    "    if s[i].lower() == 's' and i != 0 and i != len(s)-1:\n",
    "        b.append(s[i-1]*2 + s[i+1])\n",
    "    else:\n",
    "        b.append(s[i])\n",
    "print(b)\n",
    "     "
   ]
  }
 ],
 "metadata": {
  "kernelspec": {
   "display_name": "Python 3",
   "language": "python",
   "name": "python3"
  },
  "language_info": {
   "codemirror_mode": {
    "name": "ipython",
    "version": 3
   },
   "file_extension": ".py",
   "mimetype": "text/x-python",
   "name": "python",
   "nbconvert_exporter": "python",
   "pygments_lexer": "ipython3",
   "version": "3.12.0"
  }
 },
 "nbformat": 4,
 "nbformat_minor": 2
}
