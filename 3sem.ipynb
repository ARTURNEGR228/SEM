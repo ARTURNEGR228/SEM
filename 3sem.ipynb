{
 "cells": [
  {
   "cell_type": "code",
   "execution_count": null,
   "metadata": {},
   "outputs": [],
   "source": [
    "s1 = input('Введите первую строку:')\n",
    "a = int(input('Введите целое число:'))\n",
    "s2 = input('Введите вторую строку:')\n",
    "if s1 and not a - 5 and not s2:\n",
    "    print('Правильный ответ')\n",
    "else:\n",
    "    print('Ответ неправильный, попробуйте еще раз.')"
   ]
  },
  {
   "cell_type": "code",
   "execution_count": null,
   "metadata": {},
   "outputs": [],
   "source": [
    "values = [(True, True), (True, False), (False, True), (False, False)]\n",
    "for a, b in values:\n",
    "    res1 = not (a or b) == (not a and not b)\n",
    "    res2 = not (a and b) == (not a or not b)\n",
    "    print(f\"a = {a}, b = {b}, res1 = {res1}, res2 = {res2}\")"
   ]
  },
  {
   "cell_type": "code",
   "execution_count": null,
   "metadata": {},
   "outputs": [],
   "source": [
    "b = [-6,-5, -4, -3, -2, -1, 0, 1, 2, 3, 4, 5, 6]\n",
    "for x in b:\n",
    "    res = x**2 > 6-x > x\n",
    "    print(f\"x = {x}: {res}\")"
   ]
  },
  {
   "cell_type": "code",
   "execution_count": null,
   "metadata": {},
   "outputs": [],
   "source": [
    "a, b, c = map(int, input(\"Введите значения a, b, c через пробел: \").split())\n",
    "res = 0 <= a <= c and 0 <= b < c and b == 2 and 0 <= c < 5\n",
    "print(res)"
   ]
  },
  {
   "cell_type": "code",
   "execution_count": null,
   "metadata": {},
   "outputs": [],
   "source": [
    "s1 = input(\"Введите первую строку: \")\n",
    "s2 = input(\"Введите вторую строку: \")\n",
    "print(len(s1) > len(s2) and s1 < s2)"
   ]
  },
  {
   "cell_type": "code",
   "execution_count": null,
   "metadata": {},
   "outputs": [],
   "source": [
    "b = ['string', 'String', 'strinG', 'stringlong', ' string', 'string ', '_string']\n",
    "c = sorted(b)\n",
    "print(c)"
   ]
  },
  {
   "cell_type": "code",
   "execution_count": null,
   "metadata": {},
   "outputs": [],
   "source": [
    "s = input(\"Введите строку: \")\n",
    "if \"!!!\" in s and \"???\" in s:\n",
    "    pass\n",
    "elif s[:3]==\"!!!\":\n",
    "    print(\"Nota bene:\", s.replace(\"!!!\", \"\"))\n",
    "elif \"!!!\" in s:\n",
    "    print(\"exclaim\")\n",
    "elif \"???\" in s:\n",
    "    print(\"question\")\n",
    "else:\n",
    "    print(\"random\")"
   ]
  },
  {
   "cell_type": "code",
   "execution_count": null,
   "metadata": {},
   "outputs": [],
   "source": [
    "if len(s1) > 5:\n",
    "    if s1 and not a - 5 and not s2:\n",
    "        print('Правильный ответ')\n",
    "    else:\n",
    "        print('Ответ неправильный, попробуйте еще раз.')\n",
    "elif len(s1) % 2:\n",
    "    print(f\"{s1}-{s1}-{s1}\")"
   ]
  },
  {
   "cell_type": "code",
   "execution_count": null,
   "metadata": {},
   "outputs": [],
   "source": [
    "x = \"banana monkey\"\n",
    "y = \"orangutan\"\n",
    "friend = x if \"banana\" in x else y\n",
    "print(friend)"
   ]
  }
 ],
 "metadata": {
  "kernelspec": {
   "display_name": "Python 3",
   "language": "python",
   "name": "python3"
  },
  "language_info": {
   "name": "python",
   "version": "3.12.0"
  }
 },
 "nbformat": 4,
 "nbformat_minor": 2
}
