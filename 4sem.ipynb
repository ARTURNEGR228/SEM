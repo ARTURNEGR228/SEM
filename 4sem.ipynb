{
 "cells": [
  {
   "cell_type": "markdown",
   "metadata": {},
   "source": [
    "1) С помощью цикла for сравнить две произвольные строки и вывести строку, состоящую из общих символов исходных строк."
   ]
  },
  {
   "cell_type": "code",
   "execution_count": null,
   "metadata": {},
   "outputs": [
    {
     "name": "stdout",
     "output_type": "stream",
     "text": [
      "artur\n"
     ]
    }
   ],
   "source": [
    "s1=str(input())\n",
    "s2=str(input())\n",
    "s3=''\n",
    "if len(s1)>len(s2):\n",
    "    for i in range(len(s2)):\n",
    "        if s1[i]==s2[i]:\n",
    "            s3+=s1[i]\n",
    "elif len(s1)<len(s2):\n",
    "    for i in range(len(s1)):\n",
    "        if s1[i]==s2[i]:\n",
    "            s3+=s1[i]\n",
    "elif len(s1)==len(s2):\n",
    "    for i in range(len(s1)):\n",
    "        if s1[i]==s2[i]:\n",
    "            s3+=s1[i]\n",
    "print(s3)"
   ]
  },
  {
   "cell_type": "markdown",
   "metadata": {},
   "source": [
    "2) С помощью цикла while рассчитать двойной факториал для произвольного числа. Двойной факториал n!! числа n рассчитывается как произведение всех чисел, меньших исходного на числа, кратные двум (но это не точно, надо с шагом 2) (вплоть до 1 или 2). Например: 7!! = 7 * 5 * 3 * 1 = 105"
   ]
  },
  {
   "cell_type": "code",
   "execution_count": 46,
   "metadata": {},
   "outputs": [
    {
     "name": "stdout",
     "output_type": "stream",
     "text": [
      "105\n"
     ]
    }
   ],
   "source": [
    "x=int(input())\n",
    "b=1\n",
    "while x>0:\n",
    "    b*=x;x-=2\n",
    "print(b)"
   ]
  },
  {
   "cell_type": "markdown",
   "metadata": {},
   "source": [
    "3) Решить предыдущую задачу с помощью цикла for."
   ]
  },
  {
   "cell_type": "code",
   "execution_count": 33,
   "metadata": {},
   "outputs": [
    {
     "name": "stdout",
     "output_type": "stream",
     "text": [
      "384\n"
     ]
    }
   ],
   "source": [
    "x=int(input());b=1\n",
    "for i in reversed(range(2,x,2)):\n",
    "    b*=i\n",
    "print(b)"
   ]
  },
  {
   "cell_type": "markdown",
   "metadata": {},
   "source": [
    "4) Вывести все простые числа в произвольном интервале [a, b], используя вложенные for и конструкцию for-else."
   ]
  },
  {
   "cell_type": "code",
   "execution_count": null,
   "metadata": {},
   "outputs": [],
   "source": [
    "a = int(input());b = int(input())\n",
    "for i in range(a, b + 1):\n",
    "    if i > 1:\n",
    "        for j in range(2, i):\n",
    "            if (i % j) == 0:break\n",
    "        else:print(i)"
   ]
  },
  {
   "cell_type": "markdown",
   "metadata": {},
   "source": [
    "5) Реализовать проверку на ввод вводимого пользователем значения: предлагать ввод до тех пор, пока не будет введена непустая строка. Если введено STOP, выводить сообщение \"Program interrupted by user\". Если введенная строка в лексиграфическом порядке стоит перед строчными латинскими символами, выводить предупреждение \"Too early in the dictionary. Try again!\" и предлагать ввод снова. Иначе выводить отформатированную исходную строку с заполнителем \"_\" и шириной 30 символов с выравниванием посередине."
   ]
  },
  {
   "cell_type": "code",
   "execution_count": 39,
   "metadata": {},
   "outputs": [
    {
     "name": "stdout",
     "output_type": "stream",
     "text": [
      "Too early in the dictionary. Try again!\n",
      "Program interrupted by user\n"
     ]
    }
   ],
   "source": [
    "while True:\n",
    "    s = input()\n",
    "    if s == \"STOP\":\n",
    "        print(\"Program interrupted by user\")\n",
    "        break   \n",
    "    if s < \"a\":\n",
    "        print(\"Too early in the dictionary. Try again!\")\n",
    "        continue\n",
    "    s1 = \"{:_^30}\".format(s)\n",
    "    print(s1)\n",
    "    break"
   ]
  },
  {
   "cell_type": "markdown",
   "metadata": {},
   "source": [
    "6) Для произвольной строки вывести те символы, номера которых в строке (не индексы!) делят длину строки без остатка. Для строки \"Hello world!\" должно выводиться \"Hell !\"."
   ]
  },
  {
   "cell_type": "code",
   "execution_count": 40,
   "metadata": {},
   "outputs": [
    {
     "name": "stdout",
     "output_type": "stream",
     "text": [
      "Hell !\n"
     ]
    }
   ],
   "source": [
    "s = \"Hello world!\"\n",
    "s1 = \"\"\n",
    "l = len(s)\n",
    "\n",
    "for i, char in enumerate(s, start=1):\n",
    "    if l % i == 0:\n",
    "        s1 += char\n",
    "print(s1)"
   ]
  }
 ],
 "metadata": {
  "kernelspec": {
   "display_name": "Python 3",
   "language": "python",
   "name": "python3"
  },
  "language_info": {
   "codemirror_mode": {
    "name": "ipython",
    "version": 3
   },
   "file_extension": ".py",
   "mimetype": "text/x-python",
   "name": "python",
   "nbconvert_exporter": "python",
   "pygments_lexer": "ipython3",
   "version": "3.12.0"
  }
 },
 "nbformat": 4,
 "nbformat_minor": 2
}
